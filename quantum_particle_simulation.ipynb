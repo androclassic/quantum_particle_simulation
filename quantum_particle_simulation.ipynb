{
 "cells": [
  {
   "cell_type": "markdown",
   "id": "ca040d68",
   "metadata": {},
   "source": [
    "#!pip install ffmpeg-python"
   ]
  },
  {
   "cell_type": "markdown",
   "id": "b1d8cc44",
   "metadata": {},
   "source": [
    "### Inspired by https://ben.land/post/2022/03/09/quantum-mechanics-simulation/"
   ]
  },
  {
   "cell_type": "code",
   "execution_count": null,
   "id": "77b18880",
   "metadata": {},
   "outputs": [],
   "source": [
    "import numpy as np\n",
    "import cupy as cp\n",
    "import matplotlib.pyplot as plt\n",
    "from matplotlib.colors import hsv_to_rgb\n",
    "from IPython.display import HTML\n",
    "from matplotlib.animation import FuncAnimation\n",
    "\n",
    "from functools import wraps\n",
    "import time\n",
    "\n",
    "\n",
    "def timeit(func):\n",
    "    @wraps(func)\n",
    "    def timeit_wrapper(*args, **kwargs):\n",
    "        start_time = time.perf_counter()\n",
    "        result = func(*args, **kwargs)\n",
    "        end_time = time.perf_counter()\n",
    "        total_time = end_time - start_time\n",
    "        print(f'Function {func.__name__} Took {total_time:.4f} seconds')\n",
    "        return result\n",
    "    return timeit_wrapper\n"
   ]
  },
  {
   "cell_type": "markdown",
   "id": "47417336",
   "metadata": {},
   "source": [
    "## Simulation "
   ]
  },
  {
   "cell_type": "code",
   "execution_count": null,
   "id": "54a0ae74",
   "metadata": {},
   "outputs": [],
   "source": [
    "# simulation code\n",
    "class SimulationBase:\n",
    "    def __init__(self, method, normalize, save_every, dt, steps, mass=1):\n",
    "        self.method = method\n",
    "        self.normalize = normalize\n",
    "        self.save_every = save_every\n",
    "        self.dt = dt\n",
    "        self.steps = steps\n",
    "        self.mass = mass\n",
    "\n",
    "    def dt_space(self):\n",
    "        raise NotImplementedError('Method not implemented')\n",
    "\n",
    "    def gradsq(self, phi):\n",
    "        raise NotImplementedError('Method not implemented')\n",
    "\n",
    "    def d_dt(self, phi,h=1,V=0):\n",
    "        return (1j*h/2/self.mass) * self.gradsq(phi) - (1j/h)*V*phi\n",
    "\n",
    "    def norm(self, phi, npy = np):\n",
    "        norm = npy.sum(npy.square(npy.abs(phi)))* self.dt_space()\n",
    "        return phi/np.sqrt(norm)\n",
    "\n",
    "    def euler(self, phi, dt, **kwargs):\n",
    "        return phi + dt * self.d_dt(phi, **kwargs)\n",
    "\n",
    "    def rk4(self, phi, dt, **kwargs):\n",
    "        k1 = self.d_dt(phi, **kwargs)\n",
    "        k2 = self.d_dt(phi+dt/2*k1, **kwargs)\n",
    "        k3 = self.d_dt(phi+dt/2*k2, **kwargs)\n",
    "        k4 = self.d_dt(phi+dt*k3, **kwargs)\n",
    "        return phi + dt/6*(k1+2*k2+2*k3+k4)\n",
    "\n",
    "    @timeit\n",
    "    def run(self, phi_sim, V=0, condition=None):\n",
    "        \n",
    "        simulation_steps = [phi_sim]\n",
    "        for i in range(self.steps):\n",
    "            # evolution of the next time step\n",
    "            if self.method == 'euler':\n",
    "                phi_sim = self.euler(phi_sim, self.dt,V=V)\n",
    "            elif  self.method == 'rk4':\n",
    "                phi_sim = self.rk4(phi_sim, self.dt,V=V)\n",
    "            else:\n",
    "                raise Exception(f'Unknown method { self.method}')\n",
    "                \n",
    "            if condition:\n",
    "                phi_sim = condition(phi_sim)\n",
    "            \n",
    "            # make sure the wave state is always normalised\n",
    "            if self.normalize:\n",
    "                phi_sim = self.norm(phi_sim)\n",
    "            \n",
    "            # save current wave state\n",
    "            if self.save_every is not None and (i+1) % self.save_every == 0:\n",
    "                simulation_steps.append(phi_sim)\n",
    "\n",
    "        return simulation_steps\n",
    "    \n",
    "\n",
    "class Simulation1D(SimulationBase):\n",
    "    def __init__(self, method ='rk4', normalize=True, save_every=1000, dt=1e-1, steps=40000):\n",
    "        super().__init__(method, normalize, save_every, dt, steps, mass=100)\n",
    "        self.x = np.linspace(-10,10,5000)\n",
    "        self.deltax = self.x[1]-self.x[0]\n",
    "\n",
    "    def dt_space(self):\n",
    "        return self.deltax\n",
    "\n",
    "    def gradsq(self, phi):\n",
    "        dphi_dxdx = -2*phi\n",
    "        dphi_dxdx[:-1] += phi[1:]\n",
    "        dphi_dxdx[1:] += phi[:-1]\n",
    "        return dphi_dxdx/self.dt_space()\n",
    "    \n",
    "    def wave_packet(self, pos=0,mom=0,sigma=0.1):\n",
    "        return self.norm(np.exp(-1j*mom*self.x)*np.exp(-np.square(self.x-pos)/sigma/sigma,dtype=np.complex128))\n",
    "\n",
    "\n",
    "    \n",
    "class Simulation2D(SimulationBase):\n",
    "    def __init__(self, method ='rk4', normalize=True, save_every=100, dt=1e-1, steps=4000):\n",
    "        super().__init__(method, normalize, save_every, dt, steps, mass=1000)\n",
    "        x = cp.linspace(-10,10,500)\n",
    "        y = cp.linspace(-10,10,500)\n",
    "        self.extent = cp.asnumpy(cp.asarray([cp.min(x), cp.max(x), cp.min(y), cp.max(y)]))\n",
    "        deltax = x[1]-x[0]\n",
    "        deltay = y[1]-y[0]\n",
    "        self.deltaxy = deltax*deltay\n",
    "        self.xv, self.yv = cp.meshgrid(x, y, indexing='ij')\n",
    "        \n",
    "    def dt_space(self):\n",
    "        return self.deltaxy\n",
    "\n",
    "    def wave_packet(self, p_x = 0, p_y = 0, disp_x = 0, disp_y = 0, sqsig = 0.5):\n",
    "        xv,yv = self.xv,self.yv\n",
    "        return self.norm( cp.exp(1j*xv*p_x) * cp.exp(1j*yv*p_y)\n",
    "                    *cp.exp(-cp.square(xv-disp_x)/sqsig,dtype=cp.complex128) \n",
    "                    *cp.exp(-cp.square(yv-disp_y)/sqsig,dtype=cp.complex128), npy=cp)\n",
    "    a\n",
    "    def gradsq(self, phi):\n",
    "        gradphi = -4*phi\n",
    "        gradphi[:-1,:] += phi[1:,:]\n",
    "        gradphi[1:,:] += phi[:-1,:]\n",
    "        gradphi[:,:-1] += phi[:,1:]\n",
    "        gradphi[:,1:] += phi[:,:-1]\n",
    "        r =  gradphi/self.dt_space()\n",
    "        return r\n",
    "    \n"
   ]
  },
  {
   "cell_type": "markdown",
   "id": "c0a15edc",
   "metadata": {},
   "source": [
    "## Ploting "
   ]
  },
  {
   "cell_type": "code",
   "execution_count": null,
   "id": "53f5e72e",
   "metadata": {},
   "outputs": [],
   "source": [
    "\n",
    "class DrawParticle1D:\n",
    "    def __init__(self, particle1d, psi):\n",
    "        self.particle1d=particle1d\n",
    "        self.psi = psi\n",
    "\n",
    "    @staticmethod\n",
    "    def polygon(x1,y1,x2,y2,c,ax=None):\n",
    "        # Draw function dt patch with a color\n",
    "        if ax is None:\n",
    "            ax = plt.gca()\n",
    "        polygon = plt.Polygon( [ (x1,y1), (x2,y2), (x2,0), (x1,0) ], color=c )\n",
    "        ax.add_patch(polygon)\n",
    "    \n",
    "    def draw(self,ax=None,**kwargs):\n",
    "        x=self.particle1d.x\n",
    "        y=self.psi\n",
    "        # convert to magitude and phase\n",
    "        mag = np.abs(y)\n",
    "        phase = np.angle(y)/(2*np.pi)\n",
    "\n",
    "        # circle phase to positive values\n",
    "        mask = phase < 0.0\n",
    "        phase[mask] = 1+phase[mask]\n",
    "\n",
    "        # create color using phase\n",
    "        hsv = np.asarray([phase,np.full_like(phase,0.5),np.ones_like(phase)]).T\n",
    "        rgb = hsv_to_rgb(hsv[None,:,:])[0]\n",
    "\n",
    "        # plot wave magnitude function\n",
    "        if ax is None:\n",
    "            ax = plt.gca()\n",
    "        ax.plot(x,mag,color='k')   \n",
    "\n",
    "        # fill only under big enough magnitude\n",
    "        mask = mag > np.max(mag)*1e-2\n",
    "        [DrawParticle1D.polygon(x[n],mag[n],x[n+1],mag[n+1],rgb[n],ax=ax) for n in range(0,len(x)-1) if mask[n] and mask[n+1]]\n",
    "        ax.set_xlabel('Position')\n",
    "        ax.set_xlim(-2,2)\n",
    "        ax.set_ylim(0,2)\n",
    "\n",
    "\n",
    "class DrawParticle2D:\n",
    "    def __init__(self, particle2d, psi):\n",
    "        self.particle2d=particle2d\n",
    "        self.psi = psi\n",
    "    \n",
    "    @staticmethod\n",
    "    def to_image(z,z_min=0,z_max=None,abssq=False):\n",
    "        hue = cp.ones(z.shape) if abssq else cp.angle(z)/(2*cp.pi)\n",
    "        mask = hue < 0.0\n",
    "        hue[mask] = 1.0+hue[mask]\n",
    "        mag = cp.abs(z)\n",
    "        if z_max is None:\n",
    "            z_max = cp.max(mag)\n",
    "        if z_min is None:\n",
    "            z_min = cp.min(mag)\n",
    "        val = (mag-z_min)/(z_max-z_min)\n",
    "        hsv_im = cp.transpose(cp.asarray([hue,cp.full_like(hue,0.5),val]))\n",
    "        return hsv_to_rgb(hsv_im.get())\n",
    "\n",
    "    def draw(self, z_min=None,z_max=None,abssq=False, ax=None,**kwargs):\n",
    "        z = self.psi\n",
    "        ax.set_xlim(-2,2)\n",
    "        ax.set_ylim(-2,2)\n",
    "        return ax.imshow(DrawParticle2D.to_image(z,z_min,z_max,abssq),\n",
    "                         extent=self.particle2d.extent,\n",
    "                         interpolation='bilinear',\n",
    "                         **kwargs)\n",
    "\n",
    "    \n",
    "# drawing code\n",
    "class ParticleRender:\n",
    "    @staticmethod\n",
    "    def animate(particle, simulation_steps,init_func=None):\n",
    "        fig, ax = plt.subplots()\n",
    "        # draw first frame\n",
    "        draw_obj_cls = DrawParticle2D if type(particle)==Simulation2D else DrawParticle1D\n",
    "        draw_obj_cls(particle, simulation_steps[0]).draw(ax=ax)\n",
    "        if init_func:\n",
    "            init_func(ax)\n",
    "\n",
    "        def next_frame(frame):\n",
    "            ax.clear()\n",
    "            draw_obj_cls(particle, simulation_steps[frame]).draw(ax=ax)\n",
    "            if init_func:\n",
    "                init_func(ax)\n",
    "\n",
    "        anim = FuncAnimation(fig, next_frame, frames=int(len(simulation_steps)), interval=100)\n",
    "        plt.close()    \n",
    "        return anim \n",
    "    \n",
    "    @staticmethod\n",
    "    def get_sim_video(particle, results, init_func=None):\n",
    "        anim = ParticleRender.animate(particle, results, init_func=init_func)\n",
    "        return anim.to_html5_video()\n",
    "    \n",
    "\n",
    "\n"
   ]
  },
  {
   "cell_type": "markdown",
   "id": "464dd43f",
   "metadata": {},
   "source": [
    "## A free, stationary particle"
   ]
  },
  {
   "cell_type": "markdown",
   "id": "84449c4f",
   "metadata": {},
   "source": [
    "### 1D"
   ]
  },
  {
   "cell_type": "code",
   "execution_count": null,
   "id": "a876e9be",
   "metadata": {},
   "outputs": [],
   "source": [
    "simple_particle = Simulation1D()\n",
    "\n",
    "#results = simple_particle.run(simple_particle.wave_packet(),V=0)\n",
    "HTML(ParticleRender.get_sim_video(simple_particle, results))\n"
   ]
  },
  {
   "cell_type": "markdown",
   "id": "b4a7879b",
   "metadata": {},
   "source": [
    "### 2D"
   ]
  },
  {
   "cell_type": "code",
   "execution_count": null,
   "id": "0d876da2",
   "metadata": {},
   "outputs": [],
   "source": [
    "simple_particle_2d = Simulation2D()\n",
    "results = simple_particle_2d.run(simple_particle_2d.wave_packet(p_x=10, sqsig=0.5),V=0)\n",
    "HTML(ParticleRender.get_sim_video(simple_particle_2d,results))\n"
   ]
  },
  {
   "cell_type": "markdown",
   "id": "62830c16",
   "metadata": {},
   "source": [
    "## A particle in a box"
   ]
  },
  {
   "cell_type": "markdown",
   "id": "54c0d806",
   "metadata": {},
   "source": [
    "### 1D"
   ]
  },
  {
   "cell_type": "code",
   "execution_count": null,
   "id": "196f4ec1",
   "metadata": {},
   "outputs": [],
   "source": [
    "simple_particle = Simulation1D()\n",
    "box_potential = np.where((simple_particle.x>-2)&(simple_particle.x<2),0,1)\n",
    "results = simple_particle.run(\n",
    "                                simple_particle.wave_packet(mom=40, sigma=0.2),\n",
    "                                V=box_potential)\n",
    "\n",
    "def box_init(ax):\n",
    "    ax.axvspan(2, 3, alpha=0.2, color='red')\n",
    "    ax.axvspan(-3, -2, alpha=0.2, color='red')\n",
    "    ax.set_xlim(-3,3)\n",
    "    ax.set_ylim(0,2)\n",
    "             \n",
    "HTML(ParticleRender.get_sim_video(simple_particle, results,  init_func=box_init))\n"
   ]
  },
  {
   "cell_type": "markdown",
   "id": "cf5fe674",
   "metadata": {},
   "source": [
    "### 2D"
   ]
  },
  {
   "cell_type": "code",
   "execution_count": null,
   "id": "a2f4a8ac",
   "metadata": {},
   "outputs": [],
   "source": [
    "simple_particle_2d = Simulation2D(steps=8000)\n",
    "box_potential = np.where((simple_particle_2d.xv>-2)&\n",
    "                         (simple_particle_2d.xv<2) &\n",
    "                         (simple_particle_2d.yv>-2)&\n",
    "                         (simple_particle_2d.yv<2)\n",
    "                         ,0,1)\n",
    "\n",
    "results = simple_particle_2d.run(simple_particle_2d.wave_packet(p_x=20,p_y=0, sqsig=0.3),V=box_potential)\n",
    "HTML(ParticleRender.get_sim_video(simple_particle_2d,results))\n"
   ]
  },
  {
   "cell_type": "markdown",
   "id": "deaa4c9e",
   "metadata": {},
   "source": [
    "\n",
    "## A particle encounters a barrier"
   ]
  },
  {
   "cell_type": "markdown",
   "id": "129b1d47",
   "metadata": {},
   "source": [
    "### 1D"
   ]
  },
  {
   "cell_type": "code",
   "execution_count": null,
   "id": "716d5688",
   "metadata": {},
   "outputs": [],
   "source": [
    "simple_particle = Simulation1D()\n",
    "barrier_weak_potential = np.where((simple_particle.x>2.4)&(simple_particle.x<2.6),3.5e-2,0)\n",
    "wave_packet = simple_particle.wave_packet(mom=-40, sigma=0.2)\n",
    "results = simple_particle.run(wave_packet, V=barrier_weak_potential)\n",
    "\n",
    "def barrier_init(ax):\n",
    "    ax.axvspan(2.4, 2.6, alpha=0.2, color='orange')\n",
    "    ax.set_xlim(-2,5)\n",
    "    ax.set_ylim(-1,3)\n",
    "\n",
    "HTML(ParticleRender.get_sim_video(simple_particle, results,  init_func=barrier_init))\n"
   ]
  },
  {
   "cell_type": "markdown",
   "id": "00199364",
   "metadata": {},
   "source": [
    "### 2D"
   ]
  },
  {
   "cell_type": "code",
   "execution_count": null,
   "id": "bc7025db",
   "metadata": {},
   "outputs": [],
   "source": [
    "barrier_weak_potential = np.where((simple_particle_2d.xv>2.4)&(simple_particle_2d.xv<2.6),1e-1, 0)\n",
    "\n",
    "def barrier_init(ax):\n",
    "    ax.axvspan(2.4, 2.6, alpha=0.3, color='orange')\n",
    "    ax.set_xlim(-2,5)\n",
    "\n",
    "simple_particle_2d = Simulation2D()\n",
    "results = simple_particle_2d.run(simple_particle_2d.wave_packet(p_x=15,p_y=0, sqsig=1),V=barrier_weak_potential)\n",
    "HTML(ParticleRender.get_sim_video(simple_particle_2d,results, init_func=barrier_init))\n"
   ]
  },
  {
   "cell_type": "markdown",
   "id": "56955426",
   "metadata": {},
   "source": [
    "## A particle in a quadratic potential"
   ]
  },
  {
   "cell_type": "code",
   "execution_count": null,
   "id": "b959fa29",
   "metadata": {},
   "outputs": [],
   "source": [
    "simple_particle = Simulation1D(steps=100000)\n",
    "quadratic_potential = 1e-2*np.square(simple_particle.x)\n",
    "wave_packet = simple_particle.wave_packet(mom=-40, sigma=0.2)\n",
    "results = simple_particle.run(wave_packet, V=quadratic_potential)\n",
    "\n",
    "def quadratic_init(ax):\n",
    "    ax.fill_between(simple_particle.x,(np.square(simple_particle.x)-3),-3,color='orange',alpha=0.2)\n",
    "    ax.set_xlim(-3,3)\n",
    "    ax.set_ylim(-0.5,3)\n",
    "    \n",
    "HTML(ParticleRender.get_sim_video(simple_particle, results,  init_func=quadratic_init))\n"
   ]
  },
  {
   "cell_type": "markdown",
   "id": "1678f4e4",
   "metadata": {},
   "source": [
    "## An aside on Eigenstates"
   ]
  },
  {
   "cell_type": "markdown",
   "id": "fa8b4bf6",
   "metadata": {},
   "source": [
    "#### This simulation framework is fun to generate visualizations with, but it can also be used to do real science by finding the ground and excited states of systems. This can be done by exploiting a technique called imaginary time evolution. Essentially, simply replacing dt with -idt in the simulation and propagating into “imaginary time” will damp out all but the lowest energy eigenstates.\n",
    "#### Critically, this factor goes to zero faster for higher energy states, meaning the lowest energy state is the last to disappear. So, if we require that the wave function remain normalized, which the simulate method already does, simply evolving in imaginary time will damp out all but the lowest energy eigenstate"
   ]
  },
  {
   "cell_type": "code",
   "execution_count": null,
   "id": "4a192f63",
   "metadata": {},
   "outputs": [],
   "source": [
    "simple_particle = Simulation1D(dt=-1e-1j, steps=50000)\n",
    "wave_packet = simple_particle.wave_packet(mom=-40, sigma=0.2)\n",
    "sim_quad_0 = simple_particle.run(wave_packet, V=quadratic_potential)    \n",
    "HTML(ParticleRender.get_sim_video(simple_particle.x, sim_quad_0,  init_func=quadratic_init))\n"
   ]
  },
  {
   "cell_type": "markdown",
   "id": "7120ac1b",
   "metadata": {},
   "source": [
    "#### To generate an excited state, in principle, one could:\n",
    "- take any wave packet\n",
    "- remove the ground state from it (i.e. set it’s coefficient to zero)\n",
    "- perform the same procedure on the resulting to find the first excited eigenstate \n"
   ]
  },
  {
   "cell_type": "code",
   "execution_count": null,
   "id": "35c5a112",
   "metadata": {},
   "outputs": [],
   "source": [
    "sim_quad_0[-1]"
   ]
  },
  {
   "cell_type": "code",
   "execution_count": null,
   "id": "82399df6",
   "metadata": {},
   "outputs": [],
   "source": [
    "psi = simple_particle.wave_packet(mom=40)\n",
    "phi_0 = sim_quad_0[-1]\n",
    "Phi_1 = psi - np.sum(np.conjugate(phi_0)*psi)*simple_particle.deltax*phi_0\n",
    "ParticleRender.complex_plot(simple_particle.x,Phi_1)"
   ]
  },
  {
   "cell_type": "markdown",
   "id": "c8ea5e41",
   "metadata": {},
   "source": [
    "#### Numerical instability in integrating the Schrodinger equation will invariably put some infinitesimal probability back into the ground state, causing it imaginary time evolution to once again collapse to it. The canonical (quick and dirty) solution to this problem is to simply remove the ground state from the wave function after each time step, to ensure its coefficient stays approximately zero, and then normalizing the wave function again"
   ]
  },
  {
   "cell_type": "code",
   "execution_count": null,
   "id": "fda92fbc",
   "metadata": {},
   "outputs": [],
   "source": [
    "def orthogonal_to(deltax, states):\n",
    "    def orthogonalize(phi):\n",
    "        for state in states:\n",
    "            phi = phi - np.sum(np.conjugate(state)*phi)*deltax*state\n",
    "        return phi\n",
    "    return orthogonalize\n",
    "\n",
    "simple_particle = Simulation1D(dt=-1e-1j, steps=50000)\n",
    "sim_quad_1 = simple_particle.run(Phi_1, V=quadratic_potential,\n",
    "                                condition=orthogonal_to(simple_particle.deltax, [phi_0]))    \n",
    "\n",
    "HTML(ParticleRender.get_sim_video(simple_particle.x, sim_quad_1,  init_func=quadratic_init))\n"
   ]
  },
  {
   "cell_type": "code",
   "execution_count": null,
   "id": "634826c7",
   "metadata": {},
   "outputs": [],
   "source": [
    "simple_particle = Simulation1D(dt=-1e-1j, steps=50000)\n",
    "phi_1 = sim_quad_1[-1]\n",
    "Phi_2 = psi - np.sum(np.conjugate(phi_1)*psi)*simple_particle.deltax*phi_1\n",
    "\n",
    "sim_quad_2 = simple_particle.run(Phi_2, V=quadratic_potential,\n",
    "                                    condition=orthogonal_to(simple_particle.deltax, [phi_0, phi_1]))    \n",
    "\n",
    "HTML(ParticleRender.get_sim_video(simple_particle.x, sim_quad_2,  init_func=quadratic_init))\n"
   ]
  },
  {
   "cell_type": "code",
   "execution_count": null,
   "id": "d55faac3",
   "metadata": {},
   "outputs": [],
   "source": [
    "simple_particle = Simulation1D(dt=-1e-1j, steps=50000)\n",
    "phi_2 = sim_quad_2[-1]\n",
    "Phi_3 = psi - np.sum(np.conjugate(phi_2)*psi)*simple_particle.deltax*phi_2\n",
    "\n",
    "sim_quad_3 = simple_particle.run(Phi_3, V=quadratic_potential,\n",
    "                                    condition=orthogonal_to(simple_particle.deltax, [phi_0, phi_1, phi_2]))    \n",
    "\n",
    "HTML(ParticleRender.get_sim_video(simple_particle.x, sim_quad_3,  init_func=quadratic_init))\n"
   ]
  },
  {
   "cell_type": "markdown",
   "id": "a845c658",
   "metadata": {},
   "source": [
    "#### Now, you might ask yourself how to verify that these states are in fact eigenstates without having to look up and plot the analytic solutions to the QHO\n",
    "#### The answer is simple: evolve it in time, and only the phase should change!"
   ]
  },
  {
   "cell_type": "code",
   "execution_count": null,
   "id": "6c066098",
   "metadata": {},
   "outputs": [],
   "source": [
    "phi_3 = sim_quad_3[-1]\n",
    "\n",
    "simple_particle = Simulation1D(dt=1e-1, steps=10000)\n",
    "result = simple_particle.run(\n",
    "                                phi_3,\n",
    "                                V=quadratic_potential)\n",
    "\n",
    "HTML(ParticleRender.get_sim_video(simple_particle.x, result,  init_func=quadratic_init))\n"
   ]
  },
  {
   "cell_type": "code",
   "execution_count": null,
   "id": "4b5ace21",
   "metadata": {},
   "outputs": [],
   "source": []
  },
  {
   "cell_type": "code",
   "execution_count": null,
   "id": "4e9bf9ec",
   "metadata": {},
   "outputs": [],
   "source": []
  }
 ],
 "metadata": {
  "kernelspec": {
   "display_name": "Python 3 (ipykernel)",
   "language": "python",
   "name": "python3"
  },
  "language_info": {
   "codemirror_mode": {
    "name": "ipython",
    "version": 3
   },
   "file_extension": ".py",
   "mimetype": "text/x-python",
   "name": "python",
   "nbconvert_exporter": "python",
   "pygments_lexer": "ipython3",
   "version": "3.8.8"
  }
 },
 "nbformat": 4,
 "nbformat_minor": 5
}
